{
 "cells": [
  {
   "cell_type": "code",
   "execution_count": null,
   "id": "7c034e90",
   "metadata": {},
   "outputs": [],
   "source": []
  },
  {
   "cell_type": "code",
   "execution_count": null,
   "id": "83cef17f",
   "metadata": {},
   "outputs": [],
   "source": [
    "# Step 1: Import required libraries\n",
    "import pandas as pd\n",
    "import matplotlib.pyplot as plt\n",
    "\n",
    "# Step 2: Load the CSV file\n",
    "df = pd.read_csv('sales_data.csv')  # Ensure file is in the same folder\n",
    "\n",
    "# Step 3: Display the first few rows\n",
    "print(\"First 5 rows of the dataset:\")\n",
    "print(df.head())\n",
    "\n",
    "# Step 4: Dataset information\n",
    "print(\"\\nDataset Information:\")\n",
    "print(df.info())\n",
    "\n",
    "# Step 5: Summary statistics\n",
    "print(\"\\nSummary Statistics:\")\n",
    "print(df.describe())\n",
    "\n",
    "# Step 6: Group by Region and calculate total sales\n",
    "# Make sure column names exactly match your CSV\n",
    "grouped_data = df.groupby('Region')['Sales'].sum()\n",
    "print(\"\\nTotal Sales by Region:\")\n",
    "print(grouped_data)\n",
    "\n",
    "# Step 7: Bar chart for sales by region\n",
    "plt.figure(figsize=(8, 5))\n",
    "grouped_data.plot(kind='bar', color='skyblue')\n",
    "plt.title('Total Sales by Region')\n",
    "plt.xlabel('Region')\n",
    "plt.ylabel('Sales')\n",
    "plt.xticks(rotation=45)\n",
    "plt.grid(axis='y', linestyle='--', alpha=0.7)\n",
    "plt.tight_layout()\n",
    "plt.show()\n",
    "\n",
    "# Step 8: Monthly Sales Trend (if 'Date' column exists)\n",
    "if 'Date' in df.columns:\n",
    "    df['Date'] = pd.to_datetime(df['Date'])  # Convert to datetime\n",
    "    df['Month'] = df['Date'].dt.to_period('M')  # Extract year-month\n",
    "\n",
    "    monthly_sales = df.groupby('Month')['Sales'].sum()\n",
    "\n",
    "    plt.figure(figsize=(10, 4))\n",
    "    monthly_sales.plot(kind='line', marker='o', color='green', title='Monthly Sales Trend')\n",
    "    plt.xlabel('Month')\n",
    "    plt.ylabel('Sales')\n",
    "    plt.grid(True)\n",
    "    plt.tight_layout()\n",
    "    plt.show()\n"
   ]
  }
 ],
 "metadata": {
  "kernelspec": {
   "display_name": "Python 3",
   "language": "python",
   "name": "python3"
  },
  "language_info": {
   "name": "python",
   "version": "3.13.4"
  }
 },
 "nbformat": 4,
 "nbformat_minor": 5
}
